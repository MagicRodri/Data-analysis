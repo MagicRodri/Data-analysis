{
 "cells": [
  {
   "cell_type": "markdown",
   "metadata": {},
   "source": [
    "# First Jupiter notebook trial for data analysis\n",
    "## Setting VScode with python virtual environment\n",
    "### First Step : Create virtual env and kernel\n",
    "```bash\n",
    "python -m venv environment_name\n",
    "source environment_name/bin/activate\n",
    "(environment_name) pip install jupyter notebook\n",
    "(environment_name) python -m ipykernel install --user --name=kernel_name\n",
    "```\n",
    "### Second Step : Select new created Kernel"
   ]
  },
  {
   "cell_type": "code",
   "execution_count": 2,
   "metadata": {},
   "outputs": [
    {
     "data": {
      "text/plain": [
       "[75, 95, 5, 18, 24, 99, 76, 35, 73, 40, 15, 37, 83, 38, 100]"
      ]
     },
     "execution_count": 2,
     "metadata": {},
     "output_type": "execute_result"
    }
   ],
   "source": [
    "import random\n",
    "\n",
    "data = [ random.randint(0,100) for _ in range(15) ]\n",
    "data"
   ]
  },
  {
   "cell_type": "code",
   "execution_count": 3,
   "metadata": {},
   "outputs": [
    {
     "name": "stdout",
     "output_type": "stream",
     "text": [
      "[ 75  95   5  18  24  99  76  35  73  40  15  37  83  38 100]\n"
     ]
    }
   ],
   "source": [
    "import numpy as np\n",
    "\n",
    "grades = np.array(data)\n",
    "print(grades)"
   ]
  }
 ],
 "metadata": {
  "kernelspec": {
   "display_name": "Data-analysis",
   "language": "python",
   "name": "data-analysis"
  },
  "language_info": {
   "codemirror_mode": {
    "name": "ipython",
    "version": 3
   },
   "file_extension": ".py",
   "mimetype": "text/x-python",
   "name": "python",
   "nbconvert_exporter": "python",
   "pygments_lexer": "ipython3",
   "version": "3.10.6"
  },
  "orig_nbformat": 4,
  "vscode": {
   "interpreter": {
    "hash": "e7370f93d1d0cde622a1f8e1c04877d8463912d04d973331ad4851f04de6915a"
   }
  }
 },
 "nbformat": 4,
 "nbformat_minor": 2
}
